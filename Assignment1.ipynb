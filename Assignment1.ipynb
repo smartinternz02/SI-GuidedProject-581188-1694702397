{
  "nbformat": 4,
  "nbformat_minor": 0,
  "metadata": {
    "colab": {
      "provenance": []
    },
    "kernelspec": {
      "name": "python3",
      "display_name": "Python 3"
    },
    "language_info": {
      "name": "python"
    }
  },
  "cells": [
    {
      "cell_type": "markdown",
      "source": [
        "# Assignment1\n",
        "  21BCE9823-KOMMAREDDY PRANAY NAGA VENKATA SUBBA REDDY"
      ],
      "metadata": {
        "id": "vb-XEhFH5HqS"
      }
    },
    {
      "cell_type": "markdown",
      "source": [
        "Creating dataframe"
      ],
      "metadata": {
        "id": "XrGW8Zju5T89"
      }
    },
    {
      "cell_type": "code",
      "source": [
        "#create data frame of 10 observations and 5 features(10 row and 5 col)\n",
        "import pandas as pd\n",
        "import numpy as np\n",
        "data = {'rollno' :(1,2,3,4,5,6,7,8,9,10),'name' :('ram','Seetha','Lakshman','Urmila','Bharat','mandavi','Shatrughan','shutakeerthi','hanuman','sugriv'),\n",
        "                  'age':(19,19,20,21,18,19,19,18,19,20),'phymarks':(10,20,30,40,50,np.nan,70,np.nan,90,np.nan),\n",
        "                  'matmarks':(35,45,55,np.nan,36,47,np.nan,np.nan,56,75)}\n",
        "df=pd.DataFrame(data)\n",
        "print(df)"
      ],
      "metadata": {
        "colab": {
          "base_uri": "https://localhost:8080/"
        },
        "id": "Zozn1JCRAent",
        "outputId": "95798d61-fd86-4d32-f543-4c671db8be4b"
      },
      "execution_count": null,
      "outputs": [
        {
          "output_type": "stream",
          "name": "stdout",
          "text": [
            "   rollno          name  age  phymarks  matmarks\n",
            "0       1           ram   19      10.0      35.0\n",
            "1       2        Seetha   19      20.0      45.0\n",
            "2       3      Lakshman   20      30.0      55.0\n",
            "3       4        Urmila   21      40.0       NaN\n",
            "4       5        Bharat   18      50.0      36.0\n",
            "5       6       mandavi   19       NaN      47.0\n",
            "6       7    Shatrughan   19      70.0       NaN\n",
            "7       8  shutakeerthi   18       NaN       NaN\n",
            "8       9       hanuman   19      90.0      56.0\n",
            "9      10        sugriv   20       NaN      75.0\n"
          ]
        }
      ]
    },
    {
      "cell_type": "markdown",
      "source": [
        "Getting info of data frame"
      ],
      "metadata": {
        "id": "g0xMTFqb5cUC"
      }
    },
    {
      "cell_type": "code",
      "source": [
        "df.info()"
      ],
      "metadata": {
        "colab": {
          "base_uri": "https://localhost:8080/"
        },
        "id": "K0KydzrTUQEV",
        "outputId": "7ec97123-e536-4485-bbef-534288a7904b"
      },
      "execution_count": null,
      "outputs": [
        {
          "output_type": "stream",
          "name": "stdout",
          "text": [
            "<class 'pandas.core.frame.DataFrame'>\n",
            "RangeIndex: 10 entries, 0 to 9\n",
            "Data columns (total 5 columns):\n",
            " #   Column    Non-Null Count  Dtype  \n",
            "---  ------    --------------  -----  \n",
            " 0   rollno    10 non-null     int64  \n",
            " 1   name      10 non-null     object \n",
            " 2   age       10 non-null     int64  \n",
            " 3   phymarks  7 non-null      float64\n",
            " 4   matmarks  7 non-null      float64\n",
            "dtypes: float64(2), int64(2), object(1)\n",
            "memory usage: 528.0+ bytes\n"
          ]
        }
      ]
    },
    {
      "cell_type": "markdown",
      "source": [
        "Getting shape of the data frame"
      ],
      "metadata": {
        "id": "OulrpRuz5ir7"
      }
    },
    {
      "cell_type": "code",
      "source": [
        "df.shape"
      ],
      "metadata": {
        "colab": {
          "base_uri": "https://localhost:8080/"
        },
        "id": "Vlhy7h-DWay6",
        "outputId": "91e747d7-8913-4d0c-fe6e-6846059eaf3e"
      },
      "execution_count": null,
      "outputs": [
        {
          "output_type": "execute_result",
          "data": {
            "text/plain": [
              "(10, 5)"
            ]
          },
          "metadata": {},
          "execution_count": 6
        }
      ]
    },
    {
      "cell_type": "markdown",
      "source": [
        "Check the descriptive statistics of df"
      ],
      "metadata": {
        "id": "fFES2cCD5pX8"
      }
    },
    {
      "cell_type": "code",
      "source": [
        "df.describe()"
      ],
      "metadata": {
        "colab": {
          "base_uri": "https://localhost:8080/",
          "height": 320
        },
        "id": "W-9iKcRrWs7S",
        "outputId": "4a293fa4-f4fc-4b6b-e59a-3c7f62524af7"
      },
      "execution_count": null,
      "outputs": [
        {
          "output_type": "execute_result",
          "data": {
            "text/plain": [
              "         rollno        age   phymarks   matmarks\n",
              "count  10.00000  10.000000   7.000000   7.000000\n",
              "mean    5.50000  19.200000  44.285714  49.857143\n",
              "std     3.02765   0.918937  28.199966  13.789230\n",
              "min     1.00000  18.000000  10.000000  35.000000\n",
              "25%     3.25000  19.000000  25.000000  40.500000\n",
              "50%     5.50000  19.000000  40.000000  47.000000\n",
              "75%     7.75000  19.750000  60.000000  55.500000\n",
              "max    10.00000  21.000000  90.000000  75.000000"
            ],
            "text/html": [
              "\n",
              "  <div id=\"df-365bebc0-ee76-4c78-856b-823da9f19d14\" class=\"colab-df-container\">\n",
              "    <div>\n",
              "<style scoped>\n",
              "    .dataframe tbody tr th:only-of-type {\n",
              "        vertical-align: middle;\n",
              "    }\n",
              "\n",
              "    .dataframe tbody tr th {\n",
              "        vertical-align: top;\n",
              "    }\n",
              "\n",
              "    .dataframe thead th {\n",
              "        text-align: right;\n",
              "    }\n",
              "</style>\n",
              "<table border=\"1\" class=\"dataframe\">\n",
              "  <thead>\n",
              "    <tr style=\"text-align: right;\">\n",
              "      <th></th>\n",
              "      <th>rollno</th>\n",
              "      <th>age</th>\n",
              "      <th>phymarks</th>\n",
              "      <th>matmarks</th>\n",
              "    </tr>\n",
              "  </thead>\n",
              "  <tbody>\n",
              "    <tr>\n",
              "      <th>count</th>\n",
              "      <td>10.00000</td>\n",
              "      <td>10.000000</td>\n",
              "      <td>7.000000</td>\n",
              "      <td>7.000000</td>\n",
              "    </tr>\n",
              "    <tr>\n",
              "      <th>mean</th>\n",
              "      <td>5.50000</td>\n",
              "      <td>19.200000</td>\n",
              "      <td>44.285714</td>\n",
              "      <td>49.857143</td>\n",
              "    </tr>\n",
              "    <tr>\n",
              "      <th>std</th>\n",
              "      <td>3.02765</td>\n",
              "      <td>0.918937</td>\n",
              "      <td>28.199966</td>\n",
              "      <td>13.789230</td>\n",
              "    </tr>\n",
              "    <tr>\n",
              "      <th>min</th>\n",
              "      <td>1.00000</td>\n",
              "      <td>18.000000</td>\n",
              "      <td>10.000000</td>\n",
              "      <td>35.000000</td>\n",
              "    </tr>\n",
              "    <tr>\n",
              "      <th>25%</th>\n",
              "      <td>3.25000</td>\n",
              "      <td>19.000000</td>\n",
              "      <td>25.000000</td>\n",
              "      <td>40.500000</td>\n",
              "    </tr>\n",
              "    <tr>\n",
              "      <th>50%</th>\n",
              "      <td>5.50000</td>\n",
              "      <td>19.000000</td>\n",
              "      <td>40.000000</td>\n",
              "      <td>47.000000</td>\n",
              "    </tr>\n",
              "    <tr>\n",
              "      <th>75%</th>\n",
              "      <td>7.75000</td>\n",
              "      <td>19.750000</td>\n",
              "      <td>60.000000</td>\n",
              "      <td>55.500000</td>\n",
              "    </tr>\n",
              "    <tr>\n",
              "      <th>max</th>\n",
              "      <td>10.00000</td>\n",
              "      <td>21.000000</td>\n",
              "      <td>90.000000</td>\n",
              "      <td>75.000000</td>\n",
              "    </tr>\n",
              "  </tbody>\n",
              "</table>\n",
              "</div>\n",
              "    <div class=\"colab-df-buttons\">\n",
              "\n",
              "  <div class=\"colab-df-container\">\n",
              "    <button class=\"colab-df-convert\" onclick=\"convertToInteractive('df-365bebc0-ee76-4c78-856b-823da9f19d14')\"\n",
              "            title=\"Convert this dataframe to an interactive table.\"\n",
              "            style=\"display:none;\">\n",
              "\n",
              "  <svg xmlns=\"http://www.w3.org/2000/svg\" height=\"24px\" viewBox=\"0 -960 960 960\">\n",
              "    <path d=\"M120-120v-720h720v720H120Zm60-500h600v-160H180v160Zm220 220h160v-160H400v160Zm0 220h160v-160H400v160ZM180-400h160v-160H180v160Zm440 0h160v-160H620v160ZM180-180h160v-160H180v160Zm440 0h160v-160H620v160Z\"/>\n",
              "  </svg>\n",
              "    </button>\n",
              "\n",
              "  <style>\n",
              "    .colab-df-container {\n",
              "      display:flex;\n",
              "      gap: 12px;\n",
              "    }\n",
              "\n",
              "    .colab-df-convert {\n",
              "      background-color: #E8F0FE;\n",
              "      border: none;\n",
              "      border-radius: 50%;\n",
              "      cursor: pointer;\n",
              "      display: none;\n",
              "      fill: #1967D2;\n",
              "      height: 32px;\n",
              "      padding: 0 0 0 0;\n",
              "      width: 32px;\n",
              "    }\n",
              "\n",
              "    .colab-df-convert:hover {\n",
              "      background-color: #E2EBFA;\n",
              "      box-shadow: 0px 1px 2px rgba(60, 64, 67, 0.3), 0px 1px 3px 1px rgba(60, 64, 67, 0.15);\n",
              "      fill: #174EA6;\n",
              "    }\n",
              "\n",
              "    .colab-df-buttons div {\n",
              "      margin-bottom: 4px;\n",
              "    }\n",
              "\n",
              "    [theme=dark] .colab-df-convert {\n",
              "      background-color: #3B4455;\n",
              "      fill: #D2E3FC;\n",
              "    }\n",
              "\n",
              "    [theme=dark] .colab-df-convert:hover {\n",
              "      background-color: #434B5C;\n",
              "      box-shadow: 0px 1px 3px 1px rgba(0, 0, 0, 0.15);\n",
              "      filter: drop-shadow(0px 1px 2px rgba(0, 0, 0, 0.3));\n",
              "      fill: #FFFFFF;\n",
              "    }\n",
              "  </style>\n",
              "\n",
              "    <script>\n",
              "      const buttonEl =\n",
              "        document.querySelector('#df-365bebc0-ee76-4c78-856b-823da9f19d14 button.colab-df-convert');\n",
              "      buttonEl.style.display =\n",
              "        google.colab.kernel.accessAllowed ? 'block' : 'none';\n",
              "\n",
              "      async function convertToInteractive(key) {\n",
              "        const element = document.querySelector('#df-365bebc0-ee76-4c78-856b-823da9f19d14');\n",
              "        const dataTable =\n",
              "          await google.colab.kernel.invokeFunction('convertToInteractive',\n",
              "                                                    [key], {});\n",
              "        if (!dataTable) return;\n",
              "\n",
              "        const docLinkHtml = 'Like what you see? Visit the ' +\n",
              "          '<a target=\"_blank\" href=https://colab.research.google.com/notebooks/data_table.ipynb>data table notebook</a>'\n",
              "          + ' to learn more about interactive tables.';\n",
              "        element.innerHTML = '';\n",
              "        dataTable['output_type'] = 'display_data';\n",
              "        await google.colab.output.renderOutput(dataTable, element);\n",
              "        const docLink = document.createElement('div');\n",
              "        docLink.innerHTML = docLinkHtml;\n",
              "        element.appendChild(docLink);\n",
              "      }\n",
              "    </script>\n",
              "  </div>\n",
              "\n",
              "\n",
              "<div id=\"df-23b9d9b2-6e1f-4084-a67b-72c2e86a399d\">\n",
              "  <button class=\"colab-df-quickchart\" onclick=\"quickchart('df-23b9d9b2-6e1f-4084-a67b-72c2e86a399d')\"\n",
              "            title=\"Suggest charts.\"\n",
              "            style=\"display:none;\">\n",
              "\n",
              "<svg xmlns=\"http://www.w3.org/2000/svg\" height=\"24px\"viewBox=\"0 0 24 24\"\n",
              "     width=\"24px\">\n",
              "    <g>\n",
              "        <path d=\"M19 3H5c-1.1 0-2 .9-2 2v14c0 1.1.9 2 2 2h14c1.1 0 2-.9 2-2V5c0-1.1-.9-2-2-2zM9 17H7v-7h2v7zm4 0h-2V7h2v10zm4 0h-2v-4h2v4z\"/>\n",
              "    </g>\n",
              "</svg>\n",
              "  </button>\n",
              "\n",
              "<style>\n",
              "  .colab-df-quickchart {\n",
              "      --bg-color: #E8F0FE;\n",
              "      --fill-color: #1967D2;\n",
              "      --hover-bg-color: #E2EBFA;\n",
              "      --hover-fill-color: #174EA6;\n",
              "      --disabled-fill-color: #AAA;\n",
              "      --disabled-bg-color: #DDD;\n",
              "  }\n",
              "\n",
              "  [theme=dark] .colab-df-quickchart {\n",
              "      --bg-color: #3B4455;\n",
              "      --fill-color: #D2E3FC;\n",
              "      --hover-bg-color: #434B5C;\n",
              "      --hover-fill-color: #FFFFFF;\n",
              "      --disabled-bg-color: #3B4455;\n",
              "      --disabled-fill-color: #666;\n",
              "  }\n",
              "\n",
              "  .colab-df-quickchart {\n",
              "    background-color: var(--bg-color);\n",
              "    border: none;\n",
              "    border-radius: 50%;\n",
              "    cursor: pointer;\n",
              "    display: none;\n",
              "    fill: var(--fill-color);\n",
              "    height: 32px;\n",
              "    padding: 0;\n",
              "    width: 32px;\n",
              "  }\n",
              "\n",
              "  .colab-df-quickchart:hover {\n",
              "    background-color: var(--hover-bg-color);\n",
              "    box-shadow: 0 1px 2px rgba(60, 64, 67, 0.3), 0 1px 3px 1px rgba(60, 64, 67, 0.15);\n",
              "    fill: var(--button-hover-fill-color);\n",
              "  }\n",
              "\n",
              "  .colab-df-quickchart-complete:disabled,\n",
              "  .colab-df-quickchart-complete:disabled:hover {\n",
              "    background-color: var(--disabled-bg-color);\n",
              "    fill: var(--disabled-fill-color);\n",
              "    box-shadow: none;\n",
              "  }\n",
              "\n",
              "  .colab-df-spinner {\n",
              "    border: 2px solid var(--fill-color);\n",
              "    border-color: transparent;\n",
              "    border-bottom-color: var(--fill-color);\n",
              "    animation:\n",
              "      spin 1s steps(1) infinite;\n",
              "  }\n",
              "\n",
              "  @keyframes spin {\n",
              "    0% {\n",
              "      border-color: transparent;\n",
              "      border-bottom-color: var(--fill-color);\n",
              "      border-left-color: var(--fill-color);\n",
              "    }\n",
              "    20% {\n",
              "      border-color: transparent;\n",
              "      border-left-color: var(--fill-color);\n",
              "      border-top-color: var(--fill-color);\n",
              "    }\n",
              "    30% {\n",
              "      border-color: transparent;\n",
              "      border-left-color: var(--fill-color);\n",
              "      border-top-color: var(--fill-color);\n",
              "      border-right-color: var(--fill-color);\n",
              "    }\n",
              "    40% {\n",
              "      border-color: transparent;\n",
              "      border-right-color: var(--fill-color);\n",
              "      border-top-color: var(--fill-color);\n",
              "    }\n",
              "    60% {\n",
              "      border-color: transparent;\n",
              "      border-right-color: var(--fill-color);\n",
              "    }\n",
              "    80% {\n",
              "      border-color: transparent;\n",
              "      border-right-color: var(--fill-color);\n",
              "      border-bottom-color: var(--fill-color);\n",
              "    }\n",
              "    90% {\n",
              "      border-color: transparent;\n",
              "      border-bottom-color: var(--fill-color);\n",
              "    }\n",
              "  }\n",
              "</style>\n",
              "\n",
              "  <script>\n",
              "    async function quickchart(key) {\n",
              "      const quickchartButtonEl =\n",
              "        document.querySelector('#' + key + ' button');\n",
              "      quickchartButtonEl.disabled = true;  // To prevent multiple clicks.\n",
              "      quickchartButtonEl.classList.add('colab-df-spinner');\n",
              "      try {\n",
              "        const charts = await google.colab.kernel.invokeFunction(\n",
              "            'suggestCharts', [key], {});\n",
              "      } catch (error) {\n",
              "        console.error('Error during call to suggestCharts:', error);\n",
              "      }\n",
              "      quickchartButtonEl.classList.remove('colab-df-spinner');\n",
              "      quickchartButtonEl.classList.add('colab-df-quickchart-complete');\n",
              "    }\n",
              "    (() => {\n",
              "      let quickchartButtonEl =\n",
              "        document.querySelector('#df-23b9d9b2-6e1f-4084-a67b-72c2e86a399d button');\n",
              "      quickchartButtonEl.style.display =\n",
              "        google.colab.kernel.accessAllowed ? 'block' : 'none';\n",
              "    })();\n",
              "  </script>\n",
              "</div>\n",
              "    </div>\n",
              "  </div>\n"
            ]
          },
          "metadata": {},
          "execution_count": 7
        }
      ]
    },
    {
      "cell_type": "markdown",
      "source": [
        "Checking 4th indexed observation and 4th indexed feature"
      ],
      "metadata": {
        "id": "qcU-Q5hd5xMa"
      }
    },
    {
      "cell_type": "code",
      "source": [
        "print(df.loc[4,])\n",
        "print(df.loc[0:5,'phymarks'])"
      ],
      "metadata": {
        "colab": {
          "base_uri": "https://localhost:8080/"
        },
        "id": "PQlQEtsAYfOu",
        "outputId": "e710a084-d728-4924-92ca-79c2bebee70f"
      },
      "execution_count": null,
      "outputs": [
        {
          "output_type": "stream",
          "name": "stdout",
          "text": [
            "rollno           5\n",
            "name        Bharat\n",
            "age             18\n",
            "phymarks      50.0\n",
            "matmarks      36.0\n",
            "Name: 4, dtype: object\n",
            "0    10.0\n",
            "1    20.0\n",
            "2    30.0\n",
            "3    40.0\n",
            "4    50.0\n",
            "5     NaN\n",
            "Name: phymarks, dtype: float64\n"
          ]
        }
      ]
    },
    {
      "cell_type": "markdown",
      "source": [
        "Handling the Null Values"
      ],
      "metadata": {
        "id": "eoHV-HS754os"
      }
    },
    {
      "cell_type": "code",
      "source": [
        "df.isnull().sum()"
      ],
      "metadata": {
        "colab": {
          "base_uri": "https://localhost:8080/"
        },
        "id": "S9k8x3LiZtfk",
        "outputId": "9e9c2762-767a-48db-9a73-8b53586b1842"
      },
      "execution_count": null,
      "outputs": [
        {
          "output_type": "execute_result",
          "data": {
            "text/plain": [
              "rollno      0\n",
              "name        0\n",
              "age         0\n",
              "phymarks    3\n",
              "matmarks    3\n",
              "dtype: int64"
            ]
          },
          "metadata": {},
          "execution_count": 9
        }
      ]
    },
    {
      "cell_type": "markdown",
      "source": [
        "Impute the missing data"
      ],
      "metadata": {
        "id": "qofj-l3q5-QU"
      }
    },
    {
      "cell_type": "code",
      "source": [
        "df['phymarks']=df['phymarks'].replace(np.NaN,df['phymarks'].mean())\n",
        "print(df['phymarks'])"
      ],
      "metadata": {
        "colab": {
          "base_uri": "https://localhost:8080/"
        },
        "id": "Lk24aRwEcApC",
        "outputId": "3ac613dd-c6e5-4b41-c93d-9a2638df8c2c"
      },
      "execution_count": null,
      "outputs": [
        {
          "output_type": "stream",
          "name": "stdout",
          "text": [
            "0    10.000000\n",
            "1    20.000000\n",
            "2    30.000000\n",
            "3    40.000000\n",
            "4    50.000000\n",
            "5    44.285714\n",
            "6    70.000000\n",
            "7    44.285714\n",
            "8    90.000000\n",
            "9    44.285714\n",
            "Name: phymarks, dtype: float64\n"
          ]
        }
      ]
    },
    {
      "cell_type": "code",
      "source": [
        "print(df)"
      ],
      "metadata": {
        "colab": {
          "base_uri": "https://localhost:8080/"
        },
        "id": "NO2JQGAMcAan",
        "outputId": "a41e7921-1c87-4da0-cb69-1282fb3a6ff0"
      },
      "execution_count": null,
      "outputs": [
        {
          "output_type": "stream",
          "name": "stdout",
          "text": [
            "   rollno          name  age   phymarks  matmarks\n",
            "0       1           ram   19  10.000000      35.0\n",
            "1       2        Seetha   19  20.000000      45.0\n",
            "2       3      Lakshman   20  30.000000      55.0\n",
            "3       4        Urmila   21  40.000000       NaN\n",
            "4       5        Bharat   18  50.000000      36.0\n",
            "5       6       mandavi   19  44.285714      47.0\n",
            "6       7    Shatrughan   19  70.000000       NaN\n",
            "7       8  shutakeerthi   18  44.285714       NaN\n",
            "8       9       hanuman   19  90.000000      56.0\n",
            "9      10        sugriv   20  44.285714      75.0\n"
          ]
        }
      ]
    },
    {
      "cell_type": "code",
      "source": [
        "df.dropna(inplace=True)\n",
        "df.isnull().sum()"
      ],
      "metadata": {
        "colab": {
          "base_uri": "https://localhost:8080/"
        },
        "id": "sjiw6-qQbwm3",
        "outputId": "029f3e35-4ee3-4b24-c1df-7c6b66c41882"
      },
      "execution_count": null,
      "outputs": [
        {
          "output_type": "execute_result",
          "data": {
            "text/plain": [
              "rollno      0\n",
              "name        0\n",
              "age         0\n",
              "phymarks    0\n",
              "matmarks    0\n",
              "dtype: int64"
            ]
          },
          "metadata": {},
          "execution_count": 12
        }
      ]
    },
    {
      "cell_type": "markdown",
      "source": [
        "Replacing the Null values"
      ],
      "metadata": {
        "id": "cOVUPdtC6FaG"
      }
    },
    {
      "cell_type": "code",
      "source": [
        "print(df)"
      ],
      "metadata": {
        "colab": {
          "base_uri": "https://localhost:8080/"
        },
        "id": "2XAjo_fgebzg",
        "outputId": "ddc79bfe-9055-4d68-8e05-c2b7919db715"
      },
      "execution_count": null,
      "outputs": [
        {
          "output_type": "stream",
          "name": "stdout",
          "text": [
            "   rollno      name  age   phymarks  matmarks\n",
            "0       1       ram   19  10.000000      35.0\n",
            "1       2    Seetha   19  20.000000      45.0\n",
            "2       3  Lakshman   20  30.000000      55.0\n",
            "4       5    Bharat   18  50.000000      36.0\n",
            "5       6   mandavi   19  44.285714      47.0\n",
            "8       9   hanuman   19  90.000000      56.0\n",
            "9      10    sugriv   20  44.285714      75.0\n"
          ]
        }
      ]
    }
  ]
}